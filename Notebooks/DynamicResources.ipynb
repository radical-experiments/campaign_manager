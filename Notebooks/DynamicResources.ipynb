{
 "cells": [
  {
   "cell_type": "code",
   "execution_count": 1,
   "metadata": {},
   "outputs": [
    {
     "data": {
      "text/html": [
       "<style>.container { width:100% !important; }</style>"
      ],
      "text/plain": [
       "<IPython.core.display.HTML object>"
      ]
     },
     "metadata": {},
     "output_type": "display_data"
    }
   ],
   "source": [
    "from matplotlib import pyplot as plt\n",
    "from matplotlib import cm\n",
    "import pandas as pd\n",
    "from pprint import pprint\n",
    "from random import randint\n",
    "import numpy as np\n",
    "from random import gauss\n",
    "#import matplotlib as mpl\n",
    "#mpl.rcParams['text.usetex'] = True\n",
    "#mpl.rcParams['text.latex.unicode'] = True\n",
    "\n",
    "blues = cm.get_cmap(plt.get_cmap('Blues'))\n",
    "greens = cm.get_cmap(plt.get_cmap('Greens'))\n",
    "reds = cm.get_cmap(plt.get_cmap('Reds'))\n",
    "oranges = cm.get_cmap(plt.get_cmap('Oranges'))\n",
    "purples = cm.get_cmap(plt.get_cmap('Purples'))\n",
    "greys = cm.get_cmap(plt.get_cmap('Greys'))\n",
    "set1 = cm.get_cmap(plt.get_cmap('Set1'))\n",
    "\n",
    "def tableau20(color):\n",
    "    # Use coordinated colors. These are the \"Tableau 20\" colors as\n",
    "    # RGB. Each pair is strong/light. For a theory of color\n",
    "    tableau20 = [(31 , 119, 180), (174, 199, 232), # blue        [ 0,1 ]\n",
    "                 (255, 127, 14 ), (255, 187, 120), # orange      [ 2,3 ]\n",
    "                 (44 , 160, 44 ), (152, 223, 138), # green       [ 4,5 ]\n",
    "                 (214, 39 , 40 ), (255, 152, 150), # red         [ 6,7 ]\n",
    "                 (148, 103, 189), (197, 176, 213), # purple      [ 8,9 ]\n",
    "                 (140, 86 , 75 ), (196, 156, 148), # brown       [10,11]\n",
    "                 (227, 119, 194), (247, 182, 210), # pink        [12,13]\n",
    "                 (188, 189, 34 ), (219, 219, 141), # yellow      [14,15]\n",
    "                 (23 , 190, 207), (158, 218, 229), # cyan        [16,17]\n",
    "                 (65 , 68 , 81 ), (96 , 99 , 106), # gray        [18,19]\n",
    "                 (127, 127, 127), (143, 135, 130), # gray        [20,21]\n",
    "                 (165, 172, 175), (199, 199, 199), # gray        [22,23]\n",
    "                 (207, 207, 207)]                   # gray        [24]\n",
    "    # Scale the RGB values to the [0, 1] range, which is the format\n",
    "    # matplotlib accepts.\n",
    "    r, g, b = tableau20[color]\n",
    "    return (round(r/255.,1), round(g/255.,1), round(b/255.,1))\n",
    "\n",
    "from IPython.core.display import display, HTML\n",
    "display(HTML(\"<style>.container { width:100% !important; }</style>\"))\n",
    "import warnings\n",
    "warnings.filterwarnings('ignore')"
   ]
  },
  {
   "cell_type": "markdown",
   "metadata": {},
   "source": [
    "# Homogeneous Dynamic Resources distirbution\n",
    "Since the resources are homogeneous their performance is sampled from the same distribution. This distribution is based on a normal of mean 1 and sigma "
   ]
  },
  {
   "cell_type": "code",
   "execution_count": 2,
   "metadata": {},
   "outputs": [
    {
     "name": "stdout",
     "output_type": "stream",
     "text": [
      "Help on method gauss in module random:\n",
      "\n",
      "gauss(mu, sigma) method of random.Random instance\n",
      "    Gaussian distribution.\n",
      "    \n",
      "    mu is the mean, and sigma is the standard deviation.  This is\n",
      "    slightly faster than the normalvariate() function.\n",
      "    \n",
      "    Not thread-safe without a lock around calls.\n",
      "\n"
     ]
    }
   ],
   "source": [
    "help(gauss)"
   ]
  },
  {
   "cell_type": "code",
   "execution_count": 3,
   "metadata": {},
   "outputs": [],
   "source": [
    "dist = list()\n",
    "for _ in range(1000000):\n",
    "    dist.append(gauss(1,4900/76000))"
   ]
  },
  {
   "cell_type": "code",
   "execution_count": 4,
   "metadata": {},
   "outputs": [
    {
     "data": {
      "image/png": "[encoded data removed]",
      "text/plain": [
       "<Figure size 1080x540 with 1 Axes>"
      ]
     },
     "metadata": {
      "needs_background": "light"
     },
     "output_type": "display_data"
    }
   ],
   "source": [
    "fig, axis = plt.subplots(nrows=1,ncols=1)\n",
    "fig.set_size_inches(15,7.5)\n",
    "_ = axis.hist(dist,bins=1000,color=tableau20(0))\n",
    "_ = axis.set_xticklabels(np.around(axis.get_xticks(), decimals=2).tolist(),fontsize=16)\n",
    "_ = axis.set_yticklabels((axis.get_yticks()).astype('int').tolist(),fontsize=16)\n",
    "_ = axis.grid('on')\n",
    "_ = axis.set_title('Normal distribution with $\\mu = 1$ and $\\sigma = 0.06$', fontsize=18)\n",
    "_ = fig.savefig('../Figures/DyRes.pdf',bbox_inches='tight')"
   ]
  },
  {
   "cell_type": "code",
   "execution_count": 5,
   "metadata": {},
   "outputs": [],
   "source": [
    "resources = np.zeros((128, 4096))\n",
    "\n",
    "for i in range(128):\n",
    "    for j in range(4096):\n",
    "        resources[i,j] = gauss(1, 4900 / 76000)"
   ]
  },
  {
   "cell_type": "code",
   "execution_count": 6,
   "metadata": {},
   "outputs": [],
   "source": [
    "np.save('../Data/homogeneous_resources_dyn.npy', resources)"
   ]
  },
  {
   "cell_type": "code",
   "execution_count": 7,
   "metadata": {},
   "outputs": [
    {
     "data": {
      "image/png": "[encoded data removed]",
      "text/plain": [
       "<Figure size 792x360 with 1 Axes>"
      ]
     },
     "metadata": {
      "needs_background": "light"
     },
     "output_type": "display_data"
    }
   ],
   "source": [
    "fig, axis = plt.subplots(nrows=1,ncols=1)\n",
    "fig.set_size_inches(11,5)\n",
    "_ = axis.hist(resources[1,:],bins=100)"
   ]
  }
 ],
 "metadata": {
  "hide_input": false,
  "kernelspec": {
   "display_name": "Python 3",
   "language": "python",
   "name": "python3"
  },
  "language_info": {
   "codemirror_mode": {
    "name": "ipython",
    "version": 3
   },
   "file_extension": ".py",
   "mimetype": "text/x-python",
   "name": "python",
   "nbconvert_exporter": "python",
   "pygments_lexer": "ipython3",
   "version": "3.8.1"
  }
 },
 "nbformat": 4,
 "nbformat_minor": 4
}
