{
 "cells": [
  {
   "cell_type": "code",
   "execution_count": 1,
   "metadata": {},
   "outputs": [],
   "source": [
    "import pandas as pd\n",
    "from pprint import pprint\n",
    "from glob import glob"
   ]
  },
  {
   "cell_type": "code",
   "execution_count": 2,
   "metadata": {},
   "outputs": [],
   "source": [
    "filenames = ['../Data/heft/StHomoCampaigns_4StHomoResourcesHEFT.csv',\n",
    "             '../Data/l2ff/StHomoCampaigns_4StHomoResourcesL2FF.csv',\n",
    "             '../Data/random/StHomoCampaigns_4StHomoResourcesRAND.csv',\n",
    "             '../Data/ga/perc_100/StHomoCampaigns_4StHomoResourcesGA.csv',\n",
    "             '../Data/ga/perc_075/StHomoCampaigns_4StHomoResourcesGA25.csv',\n",
    "             '../Data/ga/perc_050/StHomoCampaigns_4StHomoResourcesGA50.csv']\n",
    "df = pd.read_csv(filenames[0])\n",
    "df.drop(['plan', 'time'], axis=1, inplace=True)\n",
    "for file in filenames[1:]:\n",
    "    tmp_df = pd.read_csv(file)\n",
    "    tmp_df.drop(['plan', 'time'], axis=1, inplace=True)\n",
    "    df = df.append(tmp_df)\n",
    "df.reset_index(inplace=True, drop='index')\n",
    "df.to_csv('../Data/StHomoCampaigns_4StHomoResources.csv')"
   ]
  },
  {
   "cell_type": "code",
   "execution_count": 3,
   "metadata": {},
   "outputs": [],
   "source": [
    "filenames = ['../Data/heft/StHeteroCampaigns_4StHomoResourcesHEFT.csv',\n",
    "             '../Data/l2ff/StHeteroCampaigns_4StHomoResourcesL2FF.csv',\n",
    "             '../Data/random/StHeteroCampaigns_4StHomoResourcesRAND.csv',\n",
    "             '../Data/ga/perc_100/StHeteroCampaigns_4StHomoResourcesGA.csv',\n",
    "             '../Data/ga/perc_075/StHeteroCampaigns_4StHomoResourcesGA25.csv',\n",
    "             '../Data/ga/perc_050/StHeteroCampaigns_4StHomoResourcesGA50.csv']\n",
    "df = pd.read_csv(filenames[0])\n",
    "df.drop(['plan', 'time'], axis=1, inplace=True)\n",
    "for file in filenames[1:]:\n",
    "    tmp_df = pd.read_csv(file)\n",
    "    tmp_df.drop(['plan', 'time'], axis=1, inplace=True)\n",
    "    df = df.append(tmp_df)\n",
    "df.reset_index(inplace=True, drop='index')\n",
    "df.to_csv('../Data/StHeteroCampaigns_4StHomoResources.csv')"
   ]
  },
  {
   "cell_type": "code",
   "execution_count": 4,
   "metadata": {},
   "outputs": [],
   "source": [
    "filenames = ['../Data/heft/StHeteroCampaigns_4St025HeteroResourcesHEFT.csv',\n",
    "             '../Data/l2ff/StHeteroCampaigns_4St025HeteroResourcesL2FF.csv',\n",
    "             '../Data/random/StHeteroCampaigns_4St025HeteroResourcesRAND.csv',\n",
    "             '../Data/ga/perc_100/StHeteroCampaigns_4St025HeteroResourcesGA.csv',\n",
    "             '../Data/ga/perc_075/StHeteroCampaigns_4St025HeteroResourcesGA25.csv',\n",
    "             '../Data/ga/perc_050/StHeteroCampaigns_4St025HeteroResourcesGA50.csv']\n",
    "df = pd.read_csv(filenames[0])\n",
    "df.drop(['plan', 'time'], axis=1, inplace=True)\n",
    "for file in filenames[1:]:\n",
    "    tmp_df = pd.read_csv(file)\n",
    "    tmp_df.drop(['plan', 'time'], axis=1, inplace=True)\n",
    "    df = df.append(tmp_df)\n",
    "df.reset_index(inplace=True, drop='index')\n",
    "df.to_csv('../Data/StHeteroCampaigns_4St025HeteroResources.csv')"
   ]
  },
  {
   "cell_type": "code",
   "execution_count": 5,
   "metadata": {},
   "outputs": [],
   "source": [
    "filenames = ['../Data/heft/StHeteroCampaigns_4St050HeteroResourcesHEFT.csv',\n",
    "             '../Data/l2ff/StHeteroCampaigns_4St050HeteroResourcesL2FF.csv',\n",
    "             '../Data/random/StHeteroCampaigns_4St050HeteroResourcesRAND.csv',\n",
    "             '../Data/ga/perc_100/StHeteroCampaigns_4St050HeteroResourcesGA.csv',\n",
    "             '../Data/ga/perc_075/StHeteroCampaigns_4St050HeteroResourcesGA25.csv',\n",
    "             '../Data/ga/perc_050/StHeteroCampaigns_4St050HeteroResourcesGA50.csv']\n",
    "df = pd.read_csv(filenames[0])\n",
    "df.drop(['plan', 'time'], axis=1, inplace=True)\n",
    "for file in filenames[1:]:\n",
    "    tmp_df = pd.read_csv(file)\n",
    "    tmp_df.drop(['plan', 'time'], axis=1, inplace=True)\n",
    "    df = df.append(tmp_df)\n",
    "df.reset_index(inplace=True, drop='index')\n",
    "df.to_csv('../Data/StHeteroCampaigns_4St050HeteroResources.csv')"
   ]
  },
  {
   "cell_type": "code",
   "execution_count": 6,
   "metadata": {},
   "outputs": [],
   "source": [
    "filenames = ['../Data/heft/StHeteroCampaigns_4St075HeteroResourcesHEFT.csv',\n",
    "             '../Data/l2ff/StHeteroCampaigns_4St075HeteroResourcesL2FF.csv',\n",
    "             '../Data/random/StHeteroCampaigns_4St075HeteroResourcesRAND.csv',\n",
    "             '../Data/ga/perc_100/StHeteroCampaigns_4St075HeteroResourcesGA.csv',\n",
    "             '../Data/ga/perc_075/StHeteroCampaigns_4St075HeteroResourcesGA25.csv',\n",
    "             '../Data/ga/perc_050/StHeteroCampaigns_4St075HeteroResourcesGA50.csv']\n",
    "df = pd.read_csv(filenames[0])\n",
    "df.drop(['plan', 'time'], axis=1, inplace=True)\n",
    "for file in filenames[1:]:\n",
    "    tmp_df = pd.read_csv(file)\n",
    "    tmp_df.drop(['plan', 'time'], axis=1, inplace=True)\n",
    "    df = df.append(tmp_df)\n",
    "df.reset_index(inplace=True, drop='index')\n",
    "df.to_csv('../Data/StHeteroCampaigns_4St075HeteroResources.csv')"
   ]
  },
  {
   "cell_type": "code",
   "execution_count": 7,
   "metadata": {},
   "outputs": [],
   "source": [
    "filenames = ['../Data/heft/StHeteroCampaigns_4St100HeteroResourcesHEFT.csv',\n",
    "             '../Data/l2ff/StHeteroCampaigns_4St100HeteroResourcesL2FF.csv',\n",
    "             '../Data/random/StHeteroCampaigns_4St100HeteroResourcesRAND.csv',\n",
    "             '../Data/ga/perc_100/StHeteroCampaigns_4St100HeteroResourcesGA.csv',\n",
    "             '../Data/ga/perc_075/StHeteroCampaigns_4St100HeteroResourcesGA25.csv',\n",
    "             '../Data/ga/perc_050/StHeteroCampaigns_4St100HeteroResourcesGA50.csv']\n",
    "df = pd.read_csv(filenames[0])\n",
    "df.drop(['plan', 'time'], axis=1, inplace=True)\n",
    "for file in filenames[1:]:\n",
    "    tmp_df = pd.read_csv(file)\n",
    "    tmp_df.drop(['plan', 'time'], axis=1, inplace=True)\n",
    "    df = df.append(tmp_df)\n",
    "df.reset_index(inplace=True, drop='index')\n",
    "df.to_csv('../Data/StHeteroCampaigns_4St100HeteroResources.csv')"
   ]
  },
  {
   "cell_type": "code",
   "execution_count": 8,
   "metadata": {},
   "outputs": [],
   "source": [
    "filenames = ['../Data/heft/HomogeResources_StHomogeCampaignsHEFT.csv',\n",
    "             '../Data/l2ff/HomogeResources_StHomogeCampaignsL2FF.csv',\n",
    "             '../Data/random/HomogeResources_StHomogeCampaignsRAND.csv',\n",
    "             '../Data/ga/perc_100/HomogeResources_StHomogeCampaignsGA.csv',\n",
    "             '../Data/ga/perc_075/HomogeResources_StHomogeCampaignsGA25.csv',\n",
    "             '../Data/ga/perc_050/HomogeResources_StHomogeCampaignsGA50.csv']\n",
    "df = pd.read_csv(filenames[0])\n",
    "df.drop(['plan', 'time'], axis=1, inplace=True)\n",
    "for file in filenames[1:]:\n",
    "    tmp_df = pd.read_csv(file)\n",
    "    tmp_df.drop(['plan', 'time'], axis=1, inplace=True)\n",
    "    df = df.append(tmp_df)\n",
    "df.reset_index(inplace=True, drop='index')\n",
    "df.to_csv('../Data/HomogeResources_StHomogeCampaigns.csv', index=False)"
   ]
  },
  {
   "cell_type": "code",
   "execution_count": 9,
   "metadata": {},
   "outputs": [],
   "source": [
    "filenames = ['../Data/heft/HeteroResources_StHomogeCampaignsHEFT.csv',\n",
    "             '../Data/l2ff/HeteroResources_StHomogeCampaignsL2FF.csv',\n",
    "             '../Data/random/HeteroResources_StHomogeCampaignsRAND.csv',\n",
    "             '../Data/ga/perc_100/HeteroResources_StHomogeCampaignsGA.csv',\n",
    "             '../Data/ga/perc_075/HeteroResources_StHomogeCampaignsGA25.csv',\n",
    "             '../Data/ga/perc_050/HeteroResources_StHomogeCampaignsGA50.csv']\n",
    "df = pd.read_csv(filenames[0])\n",
    "df.drop(['plan', 'time'], axis=1, inplace=True)\n",
    "for file in filenames[1:]:\n",
    "    tmp_df = pd.read_csv(file)\n",
    "    tmp_df.drop(['plan', 'time'], axis=1, inplace=True)\n",
    "    df = df.append(tmp_df)\n",
    "df.reset_index(inplace=True, drop='index')\n",
    "df.to_csv('../Data/HeteroResources_StHomogeCampaigns.csv', index=False)"
   ]
  },
  {
   "cell_type": "code",
   "execution_count": 10,
   "metadata": {},
   "outputs": [],
   "source": [
    "filenames = ['../Data/heft/HeteroResources_StHeteroCampaignsHEFT.csv',\n",
    "             '../Data/l2ff/HeteroResources_StHeteroCampaignsL2FF.csv',\n",
    "             '../Data/random/HeteroResources_StHeteroCampaignsRAND.csv',\n",
    "             '../Data/ga/perc_100/HeteroResources_StHeteroCampaignsGA.csv',\n",
    "             '../Data/ga/perc_075/HeteroResources_StHeteroCampaignsGA25.csv',\n",
    "             '../Data/ga/perc_050/HeteroResources_StHeteroCampaignsGA50.csv']\n",
    "df = pd.read_csv(filenames[0])\n",
    "df.drop(['plan', 'time'], axis=1, inplace=True)\n",
    "for file in filenames[1:]:\n",
    "    tmp_df = pd.read_csv(file)\n",
    "    tmp_df.drop(['plan', 'time'], axis=1, inplace=True)\n",
    "    df = df.append(tmp_df)\n",
    "df.reset_index(inplace=True, drop='index')\n",
    "df.to_csv('../Data/HeteroResources_StHeteroCampaigns.csv', index=False)"
   ]
  },
  {
   "cell_type": "code",
   "execution_count": 2,
   "metadata": {},
   "outputs": [],
   "source": [
    "filenames = ['../Data/heft/DynHomoResources_StHomoCampaignsHEFT.csv',\n",
    "             '../Data/l2ff/DynHomoResources_StHomoCampaignsL2FF.csv',\n",
    "             '../Data/random/DynHomoResources_StHomoCampaignsRAND.csv',\n",
    "             '../Data/ga/perc_100/DynHomoResources_StHomoCampaignsGA.csv',\n",
    "             '../Data/ga/perc_075/DynHomoResources_StHomoCampaignsGA25.csv',\n",
    "             '../Data/ga/perc_050/DynHomoResources_StHomoCampaignsGA50.csv']\n",
    "df = pd.read_csv(filenames[0])\n",
    "df.drop(['plan', 'time'], axis=1, inplace=True)\n",
    "for file in filenames[1:]:\n",
    "    tmp_df = pd.read_csv(file)\n",
    "    tmp_df.drop(['plan', 'time'], axis=1, inplace=True)\n",
    "    df = df.append(tmp_df)\n",
    "df.reset_index(inplace=True, drop='index')\n",
    "df.to_csv('../Data/DynHomoResources_StHomoCampaigns.csv', index=False)"
   ]
  },
  {
   "cell_type": "code",
   "execution_count": 3,
   "metadata": {},
   "outputs": [],
   "source": [
    "filenames = ['../Data/heft/StHeteroCampaigns_4DynHomoResourcesHEFT.csv',\n",
    "             '../Data/l2ff/StHeteroCampaigns_4DynHomoResourcesL2FF.csv',\n",
    "             '../Data/random/StHeteroCampaigns_4DynHomoResourcesRAND.csv',\n",
    "             '../Data/ga/perc_100/StHeteroCampaigns_4DynHomoResourcesGA.csv',\n",
    "             '../Data/ga/perc_075/StHeteroCampaigns_4DynHomoResourcesGA25.csv',\n",
    "             '../Data/ga/perc_050/StHeteroCampaigns_4DynHomoResourcesGA50.csv']\n",
    "df = pd.read_csv(filenames[0])\n",
    "df.drop(['plan', 'time'], axis=1, inplace=True)\n",
    "for file in filenames[1:]:\n",
    "    tmp_df = pd.read_csv(file)\n",
    "    tmp_df.drop(['plan', 'time'], axis=1, inplace=True)\n",
    "    df = df.append(tmp_df)\n",
    "df.reset_index(inplace=True, drop='index')\n",
    "df.to_csv('../Data/StHeteroCampaigns_4DynHomoResources.csv')"
   ]
  },
  {
   "cell_type": "code",
   "execution_count": 8,
   "metadata": {},
   "outputs": [],
   "source": [
    "filenames = ['../Data/heft/DynHomoResources_StHeteroCampaignsHEFT.csv',\n",
    "             '../Data/l2ff/DynHomoResources_StHeteroCampaignsL2FF.csv',\n",
    "             '../Data/random/DynHomoResources_StHeteroCampaignsRAND.csv',\n",
    "             '../Data/ga/perc_100/DynHomoResources_StHeteroCampaignsGA.csv',\n",
    "             '../Data/ga/perc_075/DynHomoResources_StHeteroCampaignsGA25.csv',\n",
    "             '../Data/ga/perc_050/DynHomoResources_StHeteroCampaignsGA50.csv']\n",
    "df = pd.read_csv(filenames[0])\n",
    "df.drop(['plan', 'time'], axis=1, inplace=True)\n",
    "for file in filenames[1:]:\n",
    "    tmp_df = pd.read_csv(file)\n",
    "    tmp_df.drop(['plan', 'time'], axis=1, inplace=True)\n",
    "    df = df.append(tmp_df)\n",
    "df.reset_index(inplace=True, drop='index')\n",
    "df.to_csv('../Data/DynHomoResources_StHeteroCampaigns.csv', index=False)"
   ]
  },
  {
   "cell_type": "code",
   "execution_count": 9,
   "metadata": {},
   "outputs": [],
   "source": [
    "filenames = ['../Data/heft/StHeteroCampaigns_4DynHeteroResourcesHEFT.csv',\n",
    "             '../Data/l2ff/StHeteroCampaigns_4DynHeteroResourcesL2FF.csv',\n",
    "             '../Data/random/StHeteroCampaigns_4DynHeteroResourcesRAND.csv',\n",
    "             '../Data/ga/perc_100/StHeteroCampaigns_4DynHeteroResourcesGA.csv',\n",
    "             '../Data/ga/perc_075/StHeteroCampaigns_4DynHeteroResourcesGA25.csv',\n",
    "             '../Data/ga/perc_050/StHeteroCampaigns_4DynHeteroResourcesGA50.csv']\n",
    "df = pd.read_csv(filenames[0])\n",
    "df.drop(['plan', 'time'], axis=1, inplace=True)\n",
    "for file in filenames[1:]:\n",
    "    tmp_df = pd.read_csv(file)\n",
    "    tmp_df.drop(['plan', 'time'], axis=1, inplace=True)\n",
    "    df = df.append(tmp_df)\n",
    "df.reset_index(inplace=True, drop='index')\n",
    "df.to_csv('../Data/StHeteroCampaigns_4DynHeteroResources.csv')"
   ]
  },
  {
   "cell_type": "code",
   "execution_count": 10,
   "metadata": {},
   "outputs": [],
   "source": [
    "filenames = ['../Data/heft/DynHeteroResources_StHeteroCampaignsHEFT.csv',\n",
    "             '../Data/l2ff/DynHeteroResources_StHeteroCampaignsL2FF.csv',\n",
    "             '../Data/random/DynHeteroResources_StHeteroCampaignsRAND.csv',\n",
    "             '../Data/ga/perc_100/DynHeteroResources_StHeteroCampaignsGA.csv',\n",
    "             '../Data/ga/perc_075/DynHeteroResources_StHeteroCampaignsGA25.csv',\n",
    "             '../Data/ga/perc_050/DynHeteroResources_StHeteroCampaignsGA50.csv']\n",
    "df = pd.read_csv(filenames[0])\n",
    "df.drop(['plan', 'time'], axis=1, inplace=True)\n",
    "for file in filenames[1:]:\n",
    "    tmp_df = pd.read_csv(file)\n",
    "    tmp_df.drop(['plan', 'time'], axis=1, inplace=True)\n",
    "    df = df.append(tmp_df)\n",
    "df.reset_index(inplace=True, drop='index')\n",
    "df.to_csv('../Data/DynHeteroResources_StHeteroCampaigns.csv', index=False)"
   ]
  },
  {
   "cell_type": "code",
   "execution_count": null,
   "metadata": {},
   "outputs": [],
   "source": []
  }
 ],
 "metadata": {
  "hide_input": false,
  "kernelspec": {
   "display_name": "Python 3.8.1 64-bit ('campaign': conda)",
   "language": "python",
   "name": "python38164bitcampaignconda511bbd138feb405e9bb06c17f1890a1c"
  },
  "language_info": {
   "codemirror_mode": {
    "name": "ipython",
    "version": 3
   },
   "file_extension": ".py",
   "mimetype": "text/x-python",
   "name": "python",
   "nbconvert_exporter": "python",
   "pygments_lexer": "ipython3",
   "version": "3.8.1"
  }
 },
 "nbformat": 4,
 "nbformat_minor": 4
}
