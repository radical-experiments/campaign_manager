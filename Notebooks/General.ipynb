{
 "cells": [
  {
   "cell_type": "code",
   "execution_count": null,
   "metadata": {},
   "outputs": [],
   "source": [
    "from matplotlib import pyplot as plt\n",
    "from matplotlib import cm\n",
    "import pandas as pd\n",
    "from pprint import pprint\n",
    "from random import randint, random, gauss, uniform \n",
    "import numpy as np\n",
    "#import matplotlib as mpl\n",
    "#mpl.rcParams['text.usetex'] = True\n",
    "#mpl.rcParams['text.latex.unicode'] = True\n",
    "\n",
    "blues = cm.get_cmap(plt.get_cmap('Blues'))\n",
    "greens = cm.get_cmap(plt.get_cmap('Greens'))\n",
    "reds = cm.get_cmap(plt.get_cmap('Reds'))\n",
    "oranges = cm.get_cmap(plt.get_cmap('Oranges'))\n",
    "purples = cm.get_cmap(plt.get_cmap('Purples'))\n",
    "greys = cm.get_cmap(plt.get_cmap('Greys'))\n",
    "set1 = cm.get_cmap(plt.get_cmap('Set1'))\n",
    "\n",
    "def tableau20(color):\n",
    "    # Use coordinated colors. These are the \"Tableau 20\" colors as\n",
    "    # RGB. Each pair is strong/light. For a theory of color\n",
    "    tableau20 = [(31 , 119, 180), (174, 199, 232), # blue        [ 0,1 ]\n",
    "                 (255, 127, 14 ), (255, 187, 120), # orange      [ 2,3 ]\n",
    "                 (44 , 160, 44 ), (152, 223, 138), # green       [ 4,5 ]\n",
    "                 (214, 39 , 40 ), (255, 152, 150), # red         [ 6,7 ]\n",
    "                 (148, 103, 189), (197, 176, 213), # purple      [ 8,9 ]\n",
    "                 (140, 86 , 75 ), (196, 156, 148), # brown       [10,11]\n",
    "                 (227, 119, 194), (247, 182, 210), # pink        [12,13]\n",
    "                 (188, 189, 34 ), (219, 219, 141), # yellow      [14,15]\n",
    "                 (23 , 190, 207), (158, 218, 229), # cyan        [16,17]\n",
    "                 (65 , 68 , 81 ), (96 , 99 , 106), # gray        [18,19]\n",
    "                 (127, 127, 127), (143, 135, 130), # gray        [20,21]\n",
    "                 (165, 172, 175), (199, 199, 199), # gray        [22,23]\n",
    "                 (207, 207, 207)]                   # gray        [24]\n",
    "    # Scale the RGB values to the [0, 1] range, which is the format\n",
    "    # matplotlib accepts.\n",
    "    r, g, b = tableau20[color]\n",
    "    return (round(r/255.,1), round(g/255.,1), round(b/255.,1))\n",
    "\n",
    "from IPython.core.display import display, HTML\n",
    "display(HTML(\"<style>.container { width:100% !important; }</style>\"))\n",
    "import warnings\n",
    "warnings.filterwarnings('ignore')"
   ]
  },
  {
   "cell_type": "code",
   "execution_count": null,
   "metadata": {},
   "outputs": [],
   "source": [
    "dist = list()\n",
    "for _ in range(1000):\n",
    "    tmp = list()\n",
    "    for _ in range(1000):\n",
    "        tmp.append(1 / gauss(1, 0.06))\n",
    "    dist.append(min(tmp))"
   ]
  },
  {
   "cell_type": "code",
   "execution_count": null,
   "metadata": {},
   "outputs": [],
   "source": [
    "fig, axis = plt.subplots(nrows=1,ncols=1)\n",
    "fig.set_size_inches(15,7.5)\n",
    "_ = axis.hist(dist,bins=1000,color=tableau20(0))\n",
    "_ = axis.set_xticklabels(np.around(axis.get_xticks(), decimals=5).tolist(),fontsize=16)\n",
    "_ = axis.set_yticklabels((axis.get_yticks()).tolist(),fontsize=16)\n",
    "_ = axis.grid('on')"
   ]
  },
  {
   "cell_type": "code",
   "execution_count": null,
   "metadata": {},
   "outputs": [],
   "source": [
    "print(np.mean(dist), np.std(dist))"
   ]
  },
  {
   "cell_type": "code",
   "execution_count": null,
   "metadata": {},
   "outputs": [],
   "source": [
    "dist2 = list()\n",
    "for _ in range(10000):\n",
    "    dist2.append(gauss(0 + 1 * np.log10(10000), 0.4))\n",
    "\n",
    "fig, axis = plt.subplots(nrows=1,ncols=1, figsize=(15,7.5))\n",
    "_ = axis.hist(dist2, bins=1000)"
   ]
  },
  {
   "cell_type": "code",
   "execution_count": null,
   "metadata": {},
   "outputs": [],
   "source": [
    "print(np.mean(dist),np.std(dist))"
   ]
  },
  {
   "cell_type": "code",
   "execution_count": null,
   "metadata": {},
   "outputs": [],
   "source": [
    "dist = list()\n",
    "for _ in range(1000):\n",
    "    tmp = list()\n",
    "    for _ in range(1000):\n",
    "        tmp.append(uniform(-10, 10))\n",
    "    dist.append(max(tmp))"
   ]
  },
  {
   "cell_type": "code",
   "execution_count": null,
   "metadata": {},
   "outputs": [],
   "source": [
    "fig, axis = plt.subplots(nrows=1,ncols=1)\n",
    "fig.set_size_inches(15,7.5)\n",
    "_ = axis.hist(dist,bins=1000,color=tableau20(0))\n",
    "_ = axis.set_xticklabels(np.around(axis.get_xticks(), decimals=5).tolist(),fontsize=16)\n",
    "_ = axis.set_yticklabels((axis.get_yticks()).tolist(),fontsize=16)\n",
    "_ = axis.grid('on')"
   ]
  },
  {
   "cell_type": "code",
   "execution_count": null,
   "metadata": {
    "scrolled": false
   },
   "outputs": [],
   "source": [
    "from scipy.stats import invgauss\n",
    "\n",
    "dist = list()\n",
    "for _ in range(10000):\n",
    "    r = invgauss.rvs(1, size=10000)\n",
    "    dist.append(max(r))"
   ]
  },
  {
   "cell_type": "code",
   "execution_count": null,
   "metadata": {},
   "outputs": [],
   "source": [
    "fig, axis = plt.subplots(nrows=1,ncols=1)\n",
    "fig.set_size_inches(15,7.5)\n",
    "_ = axis.hist(dist,bins=1000,color=tableau20(0))\n",
    "_ = axis.set_xticklabels(np.around(axis.get_xticks(), decimals=5).tolist(),fontsize=16)\n",
    "_ = axis.set_yticklabels((axis.get_yticks()).tolist(),fontsize=16)\n",
    "_ = axis.grid('on')"
   ]
  },
  {
   "cell_type": "code",
   "execution_count": null,
   "metadata": {},
   "outputs": [],
   "source": [
    "for n in [4,8,16,32,64,128,256,1024]:\n",
    "    dist = list()\n",
    "    for _ in range(100000):\n",
    "        tmp = list()\n",
    "        for _ in range(n):\n",
    "            tmp.append(uniform(-0.1, 0.1))\n",
    "        dist.append(max(tmp))\n",
    "\n",
    "    print(n,':',np.mean(dist), np.std(dist))"
   ]
  },
  {
   "cell_type": "code",
   "execution_count": null,
   "metadata": {},
   "outputs": [],
   "source": [
    "for n in [4,8,16,32,64,128,256,1024]:\n",
    "    dist = list()\n",
    "    for _ in range(100000):\n",
    "        tmp = list()\n",
    "        for _ in range(n):\n",
    "            tmp.append(uniform(-0.2, 0.2))\n",
    "        dist.append(max(tmp))\n",
    "\n",
    "    print(n,':',np.mean(dist), np.std(dist))"
   ]
  },
  {
   "cell_type": "code",
   "execution_count": null,
   "metadata": {},
   "outputs": [],
   "source": [
    "fig, axis = plt.subplots(nrows=1,ncols=1)\n",
    "fig.set_size_inches(15,7.5)\n",
    "_ = axis.hist(dist,bins=1000,color=tableau20(0))\n",
    "_ = axis.set_xticklabels(np.around(axis.get_xticks(), decimals=5).tolist(),fontsize=16)\n",
    "_ = axis.set_yticklabels((axis.get_yticks()).tolist(),fontsize=16)\n",
    "_ = axis.grid('on')"
   ]
  },
  {
   "cell_type": "code",
   "execution_count": null,
   "metadata": {},
   "outputs": [],
   "source": [
    "for n in [4,8,16,32,64,128,256,1024]:\n",
    "    dist = list()\n",
    "    for _ in range(100000):\n",
    "        tmp = list()\n",
    "        for _ in range(n):\n",
    "            tmp.append(uniform(-0.3, 0.3))\n",
    "        dist.append(max(tmp))\n",
    "\n",
    "    print(n,':',np.mean(dist), np.std(dist))"
   ]
  },
  {
   "cell_type": "code",
   "execution_count": null,
   "metadata": {},
   "outputs": [],
   "source": [
    "for n in [4,8,16,32,64,128,256,1024]:\n",
    "    dist = list()\n",
    "    for _ in range(100000):\n",
    "        tmp = list()\n",
    "        for _ in range(n):\n",
    "            tmp.append(uniform(-0.4, 0.4))\n",
    "        dist.append(max(tmp))\n",
    "\n",
    "    print(n,':',np.mean(dist), np.std(dist))"
   ]
  },
  {
   "cell_type": "code",
   "execution_count": null,
   "metadata": {},
   "outputs": [],
   "source": [
    "for n in [4,8,16,32,64,128,256,1024]:\n",
    "    dist = list()\n",
    "    for _ in range(100000):\n",
    "        tmp = list()\n",
    "        for _ in range(n):\n",
    "            tmp.append(uniform(-0.5, 0.5))\n",
    "        dist.append(max(tmp))\n",
    "\n",
    "    print(n,':',np.mean(dist), np.std(dist))"
   ]
  },
  {
   "cell_type": "code",
   "execution_count": 2,
   "metadata": {},
   "outputs": [
    {
     "name": "stdout",
     "output_type": "stream",
     "text": [
      "4 : 0.06007081792475389 0.03250150576319406\n",
      "8 : 0.07784145420032174 0.01977236033226086\n",
      "16 : 0.08823836778961511 0.011087132934927106\n",
      "32 : 0.09394209518381264 0.0058580700381117585\n",
      "64 : 0.09692912168963168 0.003032271759988272\n",
      "128 : 0.09845295040228835 0.0015340808160820049\n",
      "256 : 0.09921881007170821 0.0007740524254575908\n",
      "1024 : 0.09980468207052574 0.0001948260752006027\n"
     ]
    }
   ],
   "source": [
    "for n in [4,8,16,32,64,128,256,1024]:\n",
    "    dist = list()\n",
    "    for _ in range(100000):\n",
    "        tmp = list()\n",
    "        for _ in range(n):\n",
    "            tmp.append(uniform(-0.1, 0.1))\n",
    "        dist.append(max(tmp))\n",
    "\n",
    "    print(n,':',np.mean(dist), np.std(dist))"
   ]
  },
  {
   "cell_type": "code",
   "execution_count": 6,
   "metadata": {},
   "outputs": [
    {
     "data": {
      "text/plain": [
       "0.08281574973072771"
      ]
     },
     "execution_count": 6,
     "metadata": {},
     "output_type": "execute_result"
    }
   ],
   "source": [
    "np.sqrt(np.std(tmp)**2 + 0.0036)"
   ]
  },
  {
   "cell_type": "code",
   "execution_count": null,
   "metadata": {},
   "outputs": [],
   "source": []
  }
 ],
 "metadata": {
  "hide_input": false,
  "kernelspec": {
   "display_name": "Python 3.8.1 64-bit ('campaign': conda)",
   "language": "python",
   "name": "python38164bitcampaignconda511bbd138feb405e9bb06c17f1890a1c"
  },
  "language_info": {
   "codemirror_mode": {
    "name": "ipython",
    "version": 3
   },
   "file_extension": ".py",
   "mimetype": "text/x-python",
   "name": "python",
   "nbconvert_exporter": "python",
   "pygments_lexer": "ipython3",
   "version": "3.8.1"
  }
 },
 "nbformat": 4,
 "nbformat_minor": 4
}
